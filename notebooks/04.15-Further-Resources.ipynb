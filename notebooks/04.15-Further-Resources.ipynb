{
 "cells": [
  {
   "cell_type": "markdown",
   "id": "71e7d5a7",
   "metadata": {},
   "source": [
    "<!--BOOK_INFORMATION-->\n",
    "<img align=\"left\" style=\"padding-right:10px;\" src=\"figures/PDSH-cover-small.png\">\n",
    "\n",
    "*This notebook contains an excerpt from the [Python Data Science Handbook](http://shop.oreilly.com/product/0636920034919.do) by Jake VanderPlas; the content is available [on GitHub](https://github.com/jakevdp/PythonDataScienceHandbook).*\n",
    "\n",
    "*The text is released under the [CC-BY-NC-ND license](https://creativecommons.org/licenses/by-nc-nd/3.0/us/legalcode), and code is released under the [MIT license](https://opensource.org/licenses/MIT). If you find this content useful, please consider supporting the work by [buying the book](http://shop.oreilly.com/product/0636920034919.do)!*"
   ]
  },
  {
   "cell_type": "markdown",
   "id": "74c18a87",
   "metadata": {},
   "source": [
    "<!--NAVIGATION-->\n",
    "< [Visualization with Seaborn](04.14-Visualization-With-Seaborn.ipynb) | [Contents](Index.ipynb) | [Machine Learning](05.00-Machine-Learning.ipynb) >\n",
    "\n",
    "<a href=\"https://colab.research.google.com/github/jakevdp/PythonDataScienceHandbook/blob/master/notebooks/04.15-Further-Resources.ipynb\"><img align=\"left\" src=\"https://colab.research.google.com/assets/colab-badge.svg\" alt=\"Open in Colab\" title=\"Open and Execute in Google Colaboratory\"></a>\n"
   ]
  },
  {
   "cell_type": "markdown",
   "metadata": {},
   "source": [
    "# Further Resources\n",
    "\n",
    "A single part of a book can never hope to cover all the available features and plot types available in Matplotlib.\n",
    "As with other packages we've seen, liberal use of IPython's tab completion and help functions (see [Help and Documentation in IPython](01.01-Help-And-Documentation.ipynb)) can be very helpful when exploring Matplotlib's API.\n",
    "In addition, Matplotlib’s [online documentation](http://matplotlib.org/) can be a helpful reference.\n",
    "See in particular the [Matplotlib gallery](https://matplotlib.org/stable/gallery/), which shows thumbnails of hundreds of different plot types, each one linked to a page with the Python code snippet used to generate it.\n",
    "This allows you to visually inspect and learn about a wide range of different plotting styles and visualization techniques.\n",
    "\n",
    "For a book-length treatment of Matplotlib, I would recommend *Interactive Applications Using Matplotlib* (Packt), written by Matplotlib core developer Ben Root."
   ]
  },
  {
   "attachments": {},
   "cell_type": "markdown",
   "metadata": {},
   "source": [
    "## Other Python Visualization Libraries\n",
    "\n",
    "Although Matplotlib is the most prominent Python visualization library, there are other more modern tools that are worth exploring as well.\n",
    "I'll mention a few of them briefly here:\n",
    "\n",
    "- [Bokeh](http://bokeh.pydata.org) is a JavaScript visualization library with a Python frontend that creates highly interactive visualizations capable of handling very large and/or streaming datasets.\n",
    "- [Plotly](http://plot.ly) is the eponymous open source product of the Plotly company, and is similar in spirit to Bokeh. It is actively developed and provides a wide range of interactive chart types.\n",
    "- [HoloViews](https://holoviews.org/) is a more declarative, unified API for generating charts in a variety of backends, including Bokeh and Matplotlib.\n",
    "- [Vega](https://vega.github.io/) and [Vega-Lite](https://vega.github.io/vega-lite) are declarative graphics representations, and are the product of years of research into how to think about data visualization and interaction. The reference rendering implementation is JavaScript, and the [Altair package](https://altair-viz.github.io/) provides a Python API to generate these charts.\n",
    "\n",
    "The visualization landscape in the Python world is constantly evolving, and I expect that this list may be out of date by the time this book is published.\n",
    "Additionally, because Python is used in so many domains, you'll find many other visualization tools built for more specific use cases.\n",
    "It can be hard to keep track of all of them, but a good resource for learning about this wide variety of visualization tools is https://pyviz.org/, an open, community-driven site containing tutorials and examples of many different visualization tools."
   ]
  },
  {
   "cell_type": "markdown",
   "id": "975a1409",
   "metadata": {},
   "source": [
    "<!--NAVIGATION-->\n",
    "< [Visualization with Seaborn](04.14-Visualization-With-Seaborn.ipynb) | [Contents](Index.ipynb) | [Machine Learning](05.00-Machine-Learning.ipynb) >\n",
    "\n",
    "<a href=\"https://colab.research.google.com/github/jakevdp/PythonDataScienceHandbook/blob/master/notebooks/04.15-Further-Resources.ipynb\"><img align=\"left\" src=\"https://colab.research.google.com/assets/colab-badge.svg\" alt=\"Open in Colab\" title=\"Open and Execute in Google Colaboratory\"></a>\n"
   ]
  }
 ],
 "metadata": {
  "jupytext": {
   "formats": "ipynb,md"
  },
  "kernelspec": {
   "display_name": "Python 3",
   "language": "python",
   "name": "python3"
  },
  "language_info": {
   "codemirror_mode": {
    "name": "ipython",
    "version": 3
   },
   "file_extension": ".py",
   "mimetype": "text/x-python",
   "name": "python",
   "nbconvert_exporter": "python",
   "pygments_lexer": "ipython3",
   "version": "3.9.2"
  }
 },
 "nbformat": 4,
 "nbformat_minor": 4
}
